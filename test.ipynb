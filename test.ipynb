{
 "cells": [
  {
   "cell_type": "code",
   "execution_count": 19,
   "metadata": {},
   "outputs": [],
   "source": [
    "from dotenv import load_dotenv\n",
    "from langgraph.checkpoint.memory import MemorySaver\n",
    "from langgraph.graph import START, MessagesState, StateGraph\n",
    "from langchain_core.messages import AIMessage, HumanMessage, BaseMessage \n",
    "from langchain_community.chat_models import ChatZhipuAI\n",
    "from langchain_core.prompts import ChatPromptTemplate, MessagesPlaceholder\n",
    "import os\n",
    "from typing import Sequence\n",
    "from typing_extensions import Annotated, TypedDict\n",
    "from langgraph.graph.message import add_messages\n",
    "from typing import Dict, Any"
   ]
  },
  {
   "cell_type": "code",
   "execution_count": 20,
   "metadata": {},
   "outputs": [],
   "source": [
    "class State(TypedDict):\n",
    "    input: str\n",
    "    chat_history: Annotated[Sequence[BaseMessage], add_messages]\n",
    "    answer: str\n",
    "    metadata: Dict[str,Any]"
   ]
  },
  {
   "cell_type": "code",
   "execution_count": 21,
   "metadata": {},
   "outputs": [],
   "source": [
    "load_dotenv()\n",
    "ZHIPU_API_KEY = os.getenv(\"ZHIPU_API_KEY\")\n",
    "llm = ChatZhipuAI(\n",
    "    api_key=ZHIPU_API_KEY,\n",
    "    temperature=0.5,\n",
    "    model=\"glm-4-flash\",\n",
    ")"
   ]
  },
  {
   "cell_type": "code",
   "execution_count": 22,
   "metadata": {},
   "outputs": [],
   "source": [
    "system_prompt = \"你是一个为了软件架构而生的AI助手，辅助进行软件架构设计，你的名字是HIT软件架构小助手\"\n",
    "prompt = ChatPromptTemplate.from_messages(\n",
    "    [\n",
    "        (\"system\", system_prompt),\n",
    "        MessagesPlaceholder(\"chat_history\"),\n",
    "        (\"human\", \"{input}\"),\n",
    "    ]\n",
    ")"
   ]
  },
  {
   "cell_type": "code",
   "execution_count": 33,
   "metadata": {},
   "outputs": [
    {
     "data": {
      "text/plain": [
       "<langgraph.graph.state.StateGraph at 0x116e6f5f0>"
      ]
     },
     "execution_count": 33,
     "metadata": {},
     "output_type": "execute_result"
    }
   ],
   "source": [
    "chain = prompt | llm\n",
    "\n",
    "\n",
    "def call_model(state: State):\n",
    "    print(\"state\", state)\n",
    "    response = chain.invoke(state)\n",
    "    return {\n",
    "        \"chat_history\": [\n",
    "            HumanMessage(state[\"input\"]),\n",
    "            AIMessage(response.content),\n",
    "        ],\n",
    "        \"answer\": response.content,\n",
    "        \"metadata\": response.response_metadata,\n",
    "    }\n",
    "\n",
    "\n",
    "# Define a new graph\n",
    "workflow = StateGraph(state_schema=State)\n",
    "\n",
    "# Define the (single) node in the graph\n",
    "workflow.add_edge(START, \"llm\")\n",
    "# workflow.add_node(\"llm\", call_model)\n"
   ]
  },
  {
   "cell_type": "code",
   "execution_count": 34,
   "metadata": {},
   "outputs": [],
   "source": [
    "def add_history(state: State):\n",
    "    state[\"chat_history\"].append(HumanMessage(\"hello\"))\n",
    "    \n",
    "# workflow.add_node(\"history_update\", add_history)\n",
    "workflow.add_node(\"llm\", call_model)\n",
    "# workflow.add_edge(\"history_update\", \"llm\")\n",
    "# Add memory\n",
    "memory = MemorySaver()\n",
    "app = workflow.compile(checkpointer=memory)"
   ]
  },
  {
   "cell_type": "code",
   "execution_count": 35,
   "metadata": {},
   "outputs": [
    {
     "name": "stdout",
     "output_type": "stream",
     "text": [
      "state {'input': '1', 'chat_history': [HumanMessage(content='你好，我叫Bob', additional_kwargs={}, response_metadata={}, id='abaa0fcd-b785-4d8d-9586-70b690965781'), AIMessage(content='你好，Bob！', additional_kwargs={}, response_metadata={}, id='bd4ce4e1-63df-4273-a653-9304ad269107')]}\n",
      "{'input': '1', 'chat_history': [HumanMessage(content='你好，我叫Bob', additional_kwargs={}, response_metadata={}, id='abaa0fcd-b785-4d8d-9586-70b690965781'), AIMessage(content='你好，Bob！', additional_kwargs={}, response_metadata={}, id='bd4ce4e1-63df-4273-a653-9304ad269107'), HumanMessage(content='1', additional_kwargs={}, response_metadata={}, id='21c8ee34-2356-4eeb-9eeb-f0994f663fbb'), AIMessage(content='看起来你只发了一个数字“1”。如果你有任何关于软件架构的问题或者需要帮助，请随时告诉我！', additional_kwargs={}, response_metadata={}, id='0a0d308a-7ed9-47b5-83ef-cbf35d631e70')], 'answer': '看起来你只发了一个数字“1”。如果你有任何关于软件架构的问题或者需要帮助，请随时告诉我！', 'metadata': {'token_usage': {'completion_tokens': 25, 'prompt_tokens': 45, 'total_tokens': 70}, 'model_name': 'glm-4-flash', 'finish_reason': 'stop'}}\n"
     ]
    }
   ],
   "source": [
    "config = {\"configurable\": {\"thread_id\": \"aa22\"}}\n",
    "query = \"你好，我叫Bob\"\n",
    "\n",
    "history = [HumanMessage(content='你好，我叫Bob', additional_kwargs={}, response_metadata={}, id='abaa0fcd-b785-4d8d-9586-70b690965781'), AIMessage(content='你好，Bob！', additional_kwargs={}, response_metadata={}, id='bd4ce4e1-63df-4273-a653-9304ad269107')]\n",
    "result = app.invoke({'input':'1','chat_history':history},config=config)\n",
    "print(result)"
   ]
  },
  {
   "cell_type": "code",
   "execution_count": null,
   "metadata": {},
   "outputs": [],
   "source": [
    "config = {\"configurable\": {\"thread_id\": \"abc123\"}}\n",
    "history = app.get_state(config=config)\n",
    "print(history)"
   ]
  }
 ],
 "metadata": {
  "kernelspec": {
   "display_name": "langchain",
   "language": "python",
   "name": "python3"
  },
  "language_info": {
   "codemirror_mode": {
    "name": "ipython",
    "version": 3
   },
   "file_extension": ".py",
   "mimetype": "text/x-python",
   "name": "python",
   "nbconvert_exporter": "python",
   "pygments_lexer": "ipython3",
   "version": "3.12.5"
  }
 },
 "nbformat": 4,
 "nbformat_minor": 2
}
